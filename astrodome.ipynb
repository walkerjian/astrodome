{
 "cells": [
  {
   "cell_type": "markdown",
   "metadata": {},
   "source": [
    "**IRAF (Image Reduction and Analysis Facility)**\n",
    "\n",
    "IRAF is a collection of software tools useful for processing and analyzing astronomical data. It was widely used by astronomers for many years but has become somewhat less popular as other tools and platforms have emerged. However, it's still an important resource in the history of astronomical software.\n",
    "\n",
    "Here are a few other common astronomical software tools and packages:\n",
    "\n",
    "1. **CASA (Common Astronomy Software Applications)**: Used mainly for processing data from radio telescopes, especially the Very Large Array (VLA) and the Atacama Large Millimeter/submillimeter Array (ALMA).\n",
    "\n",
    "2. **DS9**: An astronomical imaging and data visualization application, often used with data from observatories like the Chandra X-ray Observatory.\n",
    "\n",
    "3. **Astropy**: A library for the Python programming language that provides tools for astronomy and astrophysics.\n",
    "\n",
    "4. **FITS (Flexible Image Transport System)**: The standard data format used in astronomy. There are many software tools and libraries, such as CFITSIO, designed to handle FITS files.\n",
    "\n",
    "5. **Healpix (Hierarchical Equal Area isoLatitude Pixelization)**: A software package to divide and analyze the sky in spherical projections. It's often used for Cosmic Microwave Background (CMB) analysis.\n",
    "\n",
    "6. **AIPS (Astronomical Image Processing System)**: Older, but still used, software for calibrating and analyzing data mainly from radio telescopes.\n",
    "\n",
    "7. **SAOImage DS9**: An astronomical data visualization application.\n",
    "\n",
    "8. **SExtractor (Source Extractor)**: A program that builds a catalog of objects from an astronomical image.\n",
    "\n",
    "9. **MIRIAD (Multi-channel Image Reconstruction, Image Analysis, and Display)**: A radio interferometry data-reduction package.\n",
    "\n",
    "This is not an exhaustive list, and there are many other tools, libraries, and applications developed for specific telescopes, instruments, or purposes in the field of astronomy and astrophysics. The best tool often depends on the specific data set and analysis task at hand."
   ]
  },
  {
   "cell_type": "markdown",
   "metadata": {},
   "source": [
    "**IRAF on docker image base on miniconda3**\n",
    "\n",
    "This is a docker image of AstroConda with IRAF which provided by Space Telescope Science Institute (STScI) (based on miniconda3, from ContinuumIO). For more information: miniconda3 has been built on Debian Jessie.\n",
    "\n",
    "Noted: Latest version is beta. I'm working on forwarding X-11 securely, if you want to do so, please search on google or stack.\n",
    "\n",
    "Provided Packages\n",
    "xgterm\n",
    "ipython\n",
    "ds9\n",
    "IRAF and their extensions\n",
    "Basic Usage\n",
    "To download and run this image using the following commands:\n",
    "\n",
    "docker pull michaelcs/astrocondairaf\n",
    "docker run -i -t michaelcs/astrocondairaf /bin/bash\n",
    "  and then activate IRAF by the command (remember to activate it inside the container :D):\n",
    "\n",
    "source activate iraf27\n",
    "  You need to generate login.cl file with mkiraf as normal usage. I try to keep the image's size as small as possible, so file editor program (Vim, Nano, etc.) and other packages are not available. To keep and edit your login.cl file and other files, see Mounting Volume on Customized Usage below.\n",
    "\n",
    "Customized Usage\n",
    "Jupyter Notebook: You can start jupyter notebook (which is not installed by default) along with IRAF environment via your browser:\n",
    "```bash\n",
    "docker run -i -t -p 8888:8888 michaelcs/astrocondairaf /bin/bash  \\\n",
    "   -c \"/opt/conda/bin/conda install -n iraf27 jupyter -y --quiet && \\ \n",
    "   source activate iraf27 && /opt/conda/envs/iraf27/bin/jupyter \\\n",
    "   notebook --notebook-dir=/opt/notebooks --ip='*' --port=8888 --no-browser && \\\n",
    "   /opt/conda/envs/iraf27/bin/jupyter notebook list\"\n",
    "```\n",
    "  And the notebook will be available at http://localhost:8888. However if you want to install jupyter or add more packages permanently use docker commit to create new (better and bigger and etc.) image. This is an extremely long command, copy it to your script file is always recommended.\n",
    "\n",
    "**Mounting volume**\n",
    "\n",
    "To mounting your data (or synchronize) you have to add -v <LOCAL DIR>:<DOCKER DIR> as an option of docker run command, for example:\n",
    "```\n",
    "docker run -i -t -v /home/user/work/dir:/opt/notebooks <OTHER_OPTION>\n",
    "```\n",
    "  When the container is stopped or destroyed, the data will be kept in your directory. You can also add more mounting volumes by type -v <LOCAL DIR2>:<DOCKER DIR2> multiple times. Mounting volume is the best way to keep and edit your login.cl file.\n",
    "\n",
    "Basic Usage (or Mannual) for Forwarding X11: Please see this tutorial video below. Tutorial. Running GUI docker   This is the only method that seem to be worked for me now, use it carefully."
   ]
  },
  {
   "cell_type": "markdown",
   "metadata": {},
   "source": [
    "### 1. **Pull the Docker Image:**\n",
    "Download the pre-existing Docker image for IRAF:\n",
    "```\n",
    "docker pull michaelcs/astrocondairaf\n",
    "```\n",
    "\n",
    "### 2. **Basic Usage:**\n",
    "To run the image and get a bash prompt inside the container:\n",
    "```\n",
    "docker run -i -t michaelcs/astrocondairaf /bin/bash\n",
    "```\n",
    "Then, inside the container, activate the IRAF environment:\n",
    "```\n",
    "source activate iraf27\n",
    "```\n",
    "\n",
    "### 3. **Jupyter Notebook Setup:**\n",
    "If you'd like to start a Jupyter notebook inside the container with the IRAF environment:\n",
    "```bash\n",
    "docker run -i -t -p 8888:8888 michaelcs/astrocondairaf /bin/bash -c \"/opt/conda/bin/conda install -n iraf27 jupyter -y --quiet && source activate iraf27 && /opt/conda/envs/iraf27/bin/jupyter notebook --notebook-dir=/opt/notebooks --ip='*' --port=8888 --no-browser && /opt/conda/envs/iraf27/bin/jupyter notebook list\"\n",
    "```\n",
    "Access the notebook by visiting `http://localhost:8888` in your browser.\n",
    "\n",
    "### 4. **Mounting Volumes:**\n",
    "To persist data across container runs, or to access local data from within the container, you can mount local directories as volumes in the container. For example, to mount a local directory `/home/user/work/dir` to `/opt/notebooks` inside the container:\n",
    "```bash\n",
    "docker run -i -t -v /home/user/work/dir:/opt/notebooks michaelcs/astrocondairaf /bin/bash\n",
    "```\n",
    "\n",
    "### 5. **X11 Forwarding:**\n",
    "If you need to run graphical applications (like DS9) inside the Docker container and display them on your host machine, you might need X11 forwarding. This can be tricky and platform-dependent. The instructions you provided include a tutorial for X11 forwarding, which should be followed closely. \n",
    "\n",
    "In the case of X applications, you've already run `xhost + $ip` earlier, which allows the Docker container to display X applications on your host machine. You'll need to pass an environment variable and a volume to allow this to happen:\n",
    "\n",
    "```bash\n",
    "docker run -e DISPLAY=$ip:0 -v /tmp/.X11-unix:/tmp/.X11-unix -it michaelcs/astrocondairaf /bin/bash\n",
    "```\n",
    "\n",
    "### Tips:\n",
    "1. **Custom Image**: If you find yourself frequently adding packages or making changes inside the container, consider committing those changes to create a new Docker image. This can be done using `docker commit`, allowing you to create a personalized image that includes all the tools and configurations you need.\n",
    "\n",
    "2. **Docker Compose**: If the `docker run` commands become too lengthy and cumbersome, consider creating a `docker-compose.yml` file. This can simplify the process of running containers with specific configurations, ports, and volumes.\n",
    "\n",
    "3. **Documentation**: Make sure to document the commands and configurations you use. This can be immensely helpful for future reference, especially if you're sharing the setup with colleagues or the community.\n",
    "\n",
    "This Docker image seems like a convenient way to get started with IRAF and related tools. Remember to always check the documentation or README files associated with Docker images for best practices and any updates."
   ]
  },
  {
   "cell_type": "markdown",
   "metadata": {},
   "source": [
    "The error message at the end:\n",
    "```\n",
    "[C 02:21:28.424 NotebookApp] No such notebook dir: u'/opt/notebooks'\n",
    "```\n",
    "indicates that the directory `/opt/notebooks` does not exist inside the container. This is the directory you are trying to set as the working directory for the Jupyter notebook.\n",
    "\n",
    "You have a few options to fix this:\n",
    "\n",
    "1. **Create the Directory in the Container**: Before running the Jupyter notebook command, you can create the directory:\n",
    "\n",
    "   ```bash\n",
    "   mkdir /opt/notebooks\n",
    "   ```\n",
    "\n",
    "   You could integrate this into the existing command:\n",
    "\n",
    "   ```bash\n",
    "   docker run -i -t -p 8888:8888 michaelcs/astrocondairaf /bin/bash -c \"mkdir -p /opt/notebooks && /opt/conda/bin/conda install -n iraf27 jupyter -y --quiet && source activate iraf27 && /opt/conda/envs/iraf27/bin/jupyter notebook --notebook-dir=/opt/notebooks --ip='*' --port=8888 --no-browser && /opt/conda/envs/iraf27/bin/jupyter notebook list\"\n",
    "   ```\n",
    "\n",
    "2. **Use a Different Directory**: Instead of `/opt/notebooks`, use a directory that already exists inside the container. For instance, you could change `--notebook-dir=/opt/notebooks` to `--notebook-dir=/home` (or another known existing directory).\n",
    "\n",
    "3. **Mount a Local Directory**: As described in the provided Docker documentation, you can mount a local directory to `/opt/notebooks`:\n",
    "\n",
    "   ```bash\n",
    "   docker run -i -t -p 8888:8888 -v /path/on/your/machine:/opt/notebooks michaelcs/astrocondairaf /bin/bash -c \"/opt/conda/bin/conda install -n iraf27 jupyter -y --quiet && source activate iraf27 && /opt/conda/envs/iraf27/bin/jupyter notebook --notebook-dir=/opt/notebooks --ip='*' --port=8888 --no-browser && /opt/conda/envs/iraf27/bin/jupyter notebook list\"\n",
    "   ```\n",
    "\n",
    "   Replace `/path/on/your/machine` with a path to a directory on your local machine.\n",
    "\n",
    "Any of these options should resolve the error and allow you to run the Jupyter notebook inside the Docker container."
   ]
  },
  {
   "cell_type": "markdown",
   "metadata": {},
   "source": [
    "if I want to mount a local directory such as the one I am working in:\n",
    "\n",
    "```bash\n",
    "/Users/walkerjian/Documents/me/com/dev/astro/astrodome\n",
    "```\n",
    "then can I refer to it as ."
   ]
  },
  {
   "cell_type": "markdown",
   "metadata": {},
   "source": [
    "Yes, in many contexts `.` refers to the current directory. However, when using Docker, especially on macOS, there are a few caveats to be aware of:\n",
    "\n",
    "1. **Full Path**: Docker often requires the full path, not relative paths, even though `.` signifies the current directory. \n",
    "\n",
    "2. **File Sharing in Docker Desktop**: On macOS, Docker runs in a lightweight VM. For Docker to access folders on the host system (your Mac), you need to ensure the path is shared with Docker. This can be done via Docker Desktop's Preferences -> Resources -> File Sharing.\n",
    "\n",
    "To use the current directory in the Docker command, you can utilize the shell's ability to translate `.` into the current full path:\n",
    "\n",
    "```bash\n",
    "docker run -i -t -p 8888:8888 -v \"$(pwd)\":/opt/notebooks michaelcs/astrocondairaf /bin/bash -c \"/opt/conda/bin/conda install -n iraf27 jupyter -y --quiet && source activate iraf27 && /opt/conda/envs/iraf27/bin/jupyter notebook --notebook-dir=/opt/notebooks --ip='*' --port=8888 --no-browser && /opt/conda/envs/iraf27/bin/jupyter notebook list\"\n",
    "```\n",
    "\n",
    "In the above command, `$(pwd)` is replaced by the full path of the current directory when the command is run. This works in bash and similar shells.\n",
    "\n",
    "Lastly, ensure that the directory `/Users/walkerjian/Documents/me/com/dev/astro/astrodome` is shared with Docker Desktop to prevent any permissions issues."
   ]
  },
  {
   "cell_type": "markdown",
   "metadata": {},
   "source": [
    "docker run -i -t -p 8888:8888 -v \"$(pwd)\":/opt/notebooks michaelcs/astrocondairaf /bin/bash -c \"/opt/conda/bin/conda install -n iraf27 jupyter -y --quiet && source activate iraf27 && /opt/conda/envs/iraf27/bin/jupyter notebook --notebook-dir=/opt/notebooks --ip='*' --port=8888 --no-browser && /opt/conda/envs/iraf27/bin/jupyter notebook list\""
   ]
  },
  {
   "cell_type": "markdown",
   "metadata": {},
   "source": [
    "Great! If the IRAF and PyRAF environment has been set up correctly inside the Docker container, you should be able to use it within the Jupyter notebook. Here's how you can do that:\n",
    "\n",
    "1. **Access the Jupyter Notebook**: If you haven't already, open your web browser and navigate to the Jupyter Notebook interface by going to `http://localhost:8888`.\n",
    "\n",
    "2. **Create a New Notebook**: On the Jupyter homepage, click on the `New` button on the right and select a Python kernel. This will open a new notebook.\n",
    "\n",
    "3. **Load PyRAF**: \n",
    "   In a new cell in the notebook, you should be able to import and use PyRAF by typing the following:\n",
    "\n",
    "   ```python\n",
    "   from pyraf import iraf\n",
    "   ```\n",
    "\n",
    "   Then, run the cell by pressing `Shift + Enter`.\n",
    "\n",
    "4. **Using IRAF Commands**: After importing, you can execute IRAF commands within the PyRAF environment. For instance:\n",
    "\n",
    "   ```python\n",
    "   iraf.images()  # To load the images package\n",
    "   ```\n",
    "\n",
    "   Similarly, run the cell. This should load the `images` package from IRAF.\n",
    "\n",
    "5. **Continued Use**: From here, you can continue using IRAF and PyRAF commands as you would in a typical PyRAF session. Keep in mind that the behavior might differ slightly when working in a Jupyter notebook environment compared to a traditional terminal.\n",
    "\n",
    "6. **For Graphical Output**: If you need graphical output (like displaying images), remember that you might have challenges because IRAF and PyRAF often rely on X11 for graphics. In such cases, you may need to explore solutions that involve X11 forwarding with Docker or utilize other tools like DS9 for visualization, if they're available in the Docker container.\n",
    "\n",
    "7. **Further Learning and Troubleshooting**: Always refer to IRAF and PyRAF documentation or forums for specific tasks and troubleshooting. The environment inside Docker should work similarly to a native environment, but there might be container-specific quirks to be aware of.\n",
    "\n",
    "Remember, working with IRAF and PyRAF in a Jupyter notebook can be a bit different than working in a standard terminal session, so some adjustments might be needed. Enjoy your data analysis!"
   ]
  },
  {
   "cell_type": "code",
   "execution_count": 1,
   "metadata": {
    "collapsed": false
   },
   "outputs": [
    {
     "name": "stdout",
     "output_type": "stream",
     "text": [
      "\n",
      "No graphics display available for this session.\n",
      "Graphics tasks that attempt to plot to an interactive screen will fail.\n",
      "For help, search \"PyRAF FAQ 5.13\" or contact \"help@stsci.edu\".\n",
      "\n",
      "Created directory /opt/notebooks/pyraf for cache\n"
     ]
    },
    {
     "name": "stderr",
     "output_type": "stream",
     "text": [
      "Warning: no login.cl found\n"
     ]
    }
   ],
   "source": [
    "from pyraf import iraf"
   ]
  },
  {
   "cell_type": "code",
   "execution_count": 2,
   "metadata": {
    "collapsed": false
   },
   "outputs": [
    {
     "name": "stdout",
     "output_type": "stream",
     "text": [
      "-- creating a new uparm directory\n",
      "Terminal types: xgterm,xterm,gterm,vt640,vt100,etc.\n",
      "Enter terminal type [default xterm-color]: A new LOGIN.CL file has been created in the current directory.\n",
      "You may wish to review and edit this file to change the defaults.\n",
      "You may also add additional customizations to loginuser.cl\n"
     ]
    }
   ],
   "source": [
    "%%bash\n",
    "echo \"xterm\" | mkiraf\n"
   ]
  },
  {
   "cell_type": "code",
   "execution_count": 3,
   "metadata": {
    "collapsed": false
   },
   "outputs": [
    {
     "name": "stdout",
     "output_type": "stream",
     "text": [
      "/opt/notebooks\r\n"
     ]
    }
   ],
   "source": [
    "!pwd\n"
   ]
  },
  {
   "cell_type": "code",
   "execution_count": 4,
   "metadata": {
    "collapsed": false
   },
   "outputs": [
    {
     "name": "stdout",
     "output_type": "stream",
     "text": [
      "total 20K\r\n",
      "   0 drwxr-xr-x  9 root root  288 Nov  1 02:31 .\r\n",
      "8.0K drwxr-xr-x  1 root root 4.0K Nov  1 02:26 ..\r\n",
      "   0 drwxr-xr-x 11 root root  352 Nov  1 01:21 .git\r\n",
      "   0 drwxr-xr-x  3 root root   96 Nov  1 02:28 .ipynb_checkpoints\r\n",
      "4.0K -rw-r--r--  1 root root 1.1K Nov  1 01:24 Dockerfile\r\n",
      "4.0K -rw-r--r--  1 root root 1.3K Nov  1 02:30 Untitled.ipynb\r\n",
      "4.0K -rw-r--r--  1 root root 3.7K Nov  1 02:31 login.cl\r\n",
      "   0 drwxr-xr-x  3 root root   96 Nov  1 02:29 pyraf\r\n",
      "   0 drwxr-xr-x  2 root root   64 Nov  1 02:31 uparm\r\n"
     ]
    }
   ],
   "source": [
    "!ls -lash\n"
   ]
  },
  {
   "cell_type": "code",
   "execution_count": 5,
   "metadata": {
    "collapsed": false,
    "scrolled": true
   },
   "outputs": [
    {
     "name": "stdout",
     "output_type": "stream",
     "text": [
      "Requirement already satisfied: pyraf in /opt/conda/envs/iraf27/lib/python2.7/site-packages\n",
      "Requirement already satisfied: stsci.tools in /opt/conda/envs/iraf27/lib/python2.7/site-packages/stsci.tools-3.4.3-py2.7.egg (from pyraf)\n",
      "Requirement already satisfied: d2to1 in /opt/conda/envs/iraf27/lib/python2.7/site-packages (from stsci.tools->pyraf)\n",
      "Requirement already satisfied: setuptools in /opt/conda/envs/iraf27/lib/python2.7/site-packages/setuptools-27.2.0-py2.7.egg (from stsci.tools->pyraf)\n",
      "Requirement already satisfied: stsci.distutils in /opt/conda/envs/iraf27/lib/python2.7/site-packages (from stsci.tools->pyraf)\n",
      "Requirement already satisfied: astropy>=0.3.1 in /opt/conda/envs/iraf27/lib/python2.7/site-packages (from stsci.tools->pyraf)\n",
      "Requirement already satisfied: numpy>=1.5.1 in /opt/conda/envs/iraf27/lib/python2.7/site-packages (from stsci.tools->pyraf)\n",
      "\u001b[33mYou are using pip version 9.0.1, however version 23.3.1 is available.\n",
      "You should consider upgrading via the 'pip install --upgrade pip' command.\u001b[0m\n"
     ]
    }
   ],
   "source": [
    "!pip install pyraf\n"
   ]
  },
  {
   "cell_type": "code",
   "execution_count": 9,
   "metadata": {
    "collapsed": false
   },
   "outputs": [
    {
     "name": "stdout",
     "output_type": "stream",
     "text": [
      "Collecting pytest-runner\n",
      "  Downloading https://files.pythonhosted.org/packages/16/45/81b5262c0efc08882bdf183b788e6d28e3d684863990996d8b60967d48da/pytest_runner-5.2-py2.py3-none-any.whl\n",
      "Installing collected packages: pytest-runner\n",
      "Successfully installed pytest-runner-5.2\n",
      "\u001b[33mYou are using pip version 9.0.1, however version 23.3.1 is available.\n",
      "You should consider upgrading via the 'pip install --upgrade pip' command.\u001b[0m\n"
     ]
    }
   ],
   "source": [
    "!pip install pytest-runner"
   ]
  },
  {
   "cell_type": "code",
   "execution_count": 12,
   "metadata": {
    "collapsed": false
   },
   "outputs": [
    {
     "name": "stderr",
     "output_type": "stream",
     "text": [
      "somefile.fits: Cannot open image (somefile.fits)\n"
     ]
    }
   ],
   "source": [
    "from pyraf import iraf\n",
    "iraf.imheader('somefile.fits')\n"
   ]
  },
  {
   "cell_type": "code",
   "execution_count": 13,
   "metadata": {
    "collapsed": false
   },
   "outputs": [
    {
     "name": "stdout",
     "output_type": "stream",
     "text": [
      "     (version = \"26Apr86\")      \n",
      "        (mode = \"ql\")           \n"
     ]
    }
   ],
   "source": [
    "from pyraf import iraf\n",
    "iraf.lpar('dataio')\n"
   ]
  },
  {
   "cell_type": "code",
   "execution_count": 14,
   "metadata": {
    "collapsed": true
   },
   "outputs": [],
   "source": [
    "!which imred\n",
    "!which noao\n"
   ]
  },
  {
   "cell_type": "code",
   "execution_count": 15,
   "metadata": {
    "collapsed": false
   },
   "outputs": [
    {
     "name": "stdout",
     "output_type": "stream",
     "text": [
      "/bin/sh: 1: imhead: not found\r\n"
     ]
    }
   ],
   "source": [
    "!imhead yourfile.fits\n"
   ]
  },
  {
   "cell_type": "code",
   "execution_count": 17,
   "metadata": {
    "collapsed": true
   },
   "outputs": [],
   "source": [
    "from pyraf import iraf"
   ]
  },
  {
   "cell_type": "code",
   "execution_count": 18,
   "metadata": {
    "collapsed": false
   },
   "outputs": [
    {
     "name": "stdout",
     "output_type": "stream",
     "text": [
      "artdata/:\n",
      " gallist        mk2dspec        mkexamples      mknoise         mkpattern\n",
      " mk1dspec       mkechelle       mkheader        mkobjects       starlist\n"
     ]
    }
   ],
   "source": [
    "iraf.noao()\n",
    "iraf.artdata()\n"
   ]
  },
  {
   "cell_type": "code",
   "execution_count": 21,
   "metadata": {
    "collapsed": true
   },
   "outputs": [],
   "source": [
    "iraf.mkpattern(\"yourfile.fits\", ncols=512, nlines=512, pattern=\"slope\")\n"
   ]
  },
  {
   "cell_type": "code",
   "execution_count": 22,
   "metadata": {
    "collapsed": false
   },
   "outputs": [
    {
     "data": {
      "image/png": "[encoded data removed]",
      "text/plain": [
       "<matplotlib.figure.Figure at 0x7fc5038e0250>"
      ]
     },
     "metadata": {},
     "output_type": "display_data"
    }
   ],
   "source": [
    "from astropy.io import fits\n",
    "import matplotlib.pyplot as plt\n",
    "\n",
    "data = fits.getdata('yourfile.fits')\n",
    "plt.imshow(data, cmap='gray')\n",
    "plt.colorbar()\n",
    "plt.show()\n"
   ]
  },
  {
   "cell_type": "code",
   "execution_count": 25,
   "metadata": {
    "collapsed": true
   },
   "outputs": [],
   "source": [
    "from pyraf import iraf\n",
    "\n",
    "# Load the required IRAF package\n",
    "iraf.noao()\n",
    "iraf.onedspec()\n",
    "\n",
    "# Run the mk1dspec command\n",
    "iraf.mk1dspec('arc', title=\"Arc lines\", cont=0, peak=500, nl=30)\n"
   ]
  },
  {
   "cell_type": "code",
   "execution_count": 28,
   "metadata": {
    "collapsed": false
   },
   "outputs": [
    {
     "data": {
      "image/png": "[encoded data removed]",
      "text/plain": [
       "<matplotlib.figure.Figure at 0x7fc500168590>"
      ]
     },
     "metadata": {},
     "output_type": "display_data"
    }
   ],
   "source": [
    "import numpy as np\n",
    "import matplotlib.pyplot as plt\n",
    "from astropy.io import fits\n",
    "\n",
    "# Open the synthetic spectrum and read the data\n",
    "with fits.open('arc.fits') as hdul:\n",
    "    data = hdul[0].data\n",
    "    header = hdul[0].header\n",
    "\n",
    "# Generate a wavelength array based on header information\n",
    "wavelength = header['CRVAL1'] + header['CDELT1'] * np.arange(header['NAXIS1'])\n",
    "\n",
    "# Plot the spectrum\n",
    "plt.figure(figsize=(10, 5))\n",
    "plt.plot(wavelength, data)\n",
    "plt.title(\"Arc lines\")\n",
    "plt.xlabel(\"Wavelength\")\n",
    "plt.ylabel(\"Flux\")\n",
    "plt.grid(True)\n",
    "plt.show()\n"
   ]
  },
  {
   "cell_type": "markdown",
   "metadata": {},
   "source": [
    "This code was run in the visual code terminal after the docker had been brought down, it should be local, the astrodome repo was opened in vscode too. The dockerfile in astrodome was my attempt at creating a docker container and failed because NOAO no longer supports downloading binaries. May be possible to build from source. \n",
    "\n",
    "```bash\n",
    "docker run -i -t -p 8888:8888 -v \"$(pwd)\":/opt/notebooks michaelcs/astrocondairaf /bin/bash -c \"/opt/conda/bin/conda install -n iraf27 jupyter -y --quiet && source activate iraf27 && /opt/conda/envs/iraf27/bin/jupyter notebook --notebook-dir=/opt/notebooks --ip='*' --port=8888 --no-browser && /opt/conda/envs/iraf27/bin/jupyter notebook list\"\n",
    "```\n",
    "\n",
    "the Jupyter Notebook is running at: http://[all ip addresses on your system]:8888/?token=9c1e0ef7c66c25d3e5f310165648f5e37c2e52208ab44eb5\n",
    "\n",
    "Copy/paste this URL into your browser when you connect for the first time,\n",
    "    to login with a token:\n",
    "        http://localhost:8888/?token=9c1e0ef7c66c25d3e5f310165648f5e37c2e52208ab44eb5\n",
    "        \n",
    "        "
   ]
  },
  {
   "cell_type": "code",
   "execution_count": null,
   "metadata": {
    "collapsed": true
   },
   "outputs": [],
   "source": []
  }
 ],
 "metadata": {
  "kernelspec": {
   "display_name": "Python 2",
   "language": "python",
   "name": "python2"
  },
  "language_info": {
   "codemirror_mode": {
    "name": "ipython",
    "version": 2
   },
   "file_extension": ".py",
   "mimetype": "text/x-python",
   "name": "python",
   "nbconvert_exporter": "python",
   "pygments_lexer": "ipython2",
   "version": "2.7.13"
  }
 },
 "nbformat": 4,
 "nbformat_minor": 2
}
